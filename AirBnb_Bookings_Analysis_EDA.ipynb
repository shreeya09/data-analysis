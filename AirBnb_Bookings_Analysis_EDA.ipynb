{
  "nbformat": 4,
  "nbformat_minor": 0,
  "metadata": {
    "colab": {
      "private_outputs": true,
      "provenance": [],
      "collapsed_sections": [
        "FJNUwmbgGyua",
        "mDgbUHAGgjLW",
        "gIfDvo9L0UH2"
      ],
      "include_colab_link": true
    },
    "kernelspec": {
      "name": "python3",
      "display_name": "Python 3"
    },
    "language_info": {
      "name": "python"
    }
  },
  "cells": [
    {
      "cell_type": "markdown",
      "metadata": {
        "id": "view-in-github",
        "colab_type": "text"
      },
      "source": [
        "<a href=\"https://colab.research.google.com/github/shreeya09/data-analysis/blob/main/AirBnb_Bookings_Analysis_EDA.ipynb\" target=\"_parent\"><img src=\"https://colab.research.google.com/assets/colab-badge.svg\" alt=\"Open In Colab\"/></a>"
      ]
    },
    {
      "cell_type": "markdown",
      "source": [
        "# **Project Name**    - AirBNB EDA\n",
        "\n"
      ],
      "metadata": {
        "id": "vncDsAP0Gaoa"
      }
    },
    {
      "cell_type": "markdown",
      "source": [
        "##### **Project Type**    - EDA\n",
        "##### **Contribution**    - Individual"
      ],
      "metadata": {
        "id": "beRrZCGUAJYm"
      }
    },
    {
      "cell_type": "markdown",
      "source": [
        "# **Project Summary -**"
      ],
      "metadata": {
        "id": "FJNUwmbgGyua"
      }
    },
    {
      "cell_type": "markdown",
      "source": [
        "Since 2008, guests and hosts have used Airbnb to expand on travelling possibilities and present a more unique, personalised way of experiencing the world. Today, Airbnb became one of a kind service that is used and recognized by the whole world. Data analysis on millions of listings provided through Airbnb is a crucial factor for the company. These millions of listings generate a lot of data - data that can be analysed and used for security, business decisions, understanding of customers' and providers' (hosts) behaviour and performance on the platform, guiding marketing initiatives, implementation of innovative additional services and much more."
      ],
      "metadata": {
        "id": "F6v_1wHtG2nS"
      }
    },
    {
      "cell_type": "markdown",
      "source": [
        "# **GitHub Link -**\n",
        "\n"
      ],
      "metadata": {
        "id": "XXa2oer3meoS"
      }
    },
    {
      "cell_type": "markdown",
      "source": [
        "# **Problem Statement**\n"
      ],
      "metadata": {
        "id": "yQaldy8SH6Dl"
      }
    },
    {
      "cell_type": "markdown",
      "source": [
        "Explore and analyse the Airbnb data to discover key understandings."
      ],
      "metadata": {
        "id": "DpeJGUA3kjGy"
      }
    },
    {
      "cell_type": "markdown",
      "source": [
        "#### **Define Your Business Objective?**"
      ],
      "metadata": {
        "id": "PH-0ReGfmX4f"
      }
    },
    {
      "cell_type": "markdown",
      "source": [
        "To uncover insights that can inform business decisions, improve customer and host experiences, and identify trends or anomalies."
      ],
      "metadata": {
        "id": "PhDvGCAqmjP1"
      }
    },
    {
      "cell_type": "markdown",
      "source": [
        "# **General Guidelines** : -  "
      ],
      "metadata": {
        "id": "mDgbUHAGgjLW"
      }
    },
    {
      "cell_type": "markdown",
      "source": [
        "1.   Well-structured, formatted, and commented code is required.\n",
        "2.   Exception Handling, Production Grade Code & Deployment Ready Code will be a plus. Those students will be awarded some additional credits.\n",
        "     \n",
        "     The additional credits will have advantages over other students during Star Student selection.\n",
        "       \n",
        "             [ Note: - Deployment Ready Code is defined as, the whole .ipynb notebook should be executable in one go\n",
        "                       without a single error logged. ]\n",
        "\n",
        "3.   Each and every logic should have proper comments.\n",
        "4. You may add as many number of charts you want. Make Sure for each and every chart the following format should be answered.\n",
        "        \n",
        "\n",
        "```\n",
        "# Chart visualization code\n",
        "```\n",
        "            \n",
        "\n",
        "*   Why did you pick the specific chart?\n",
        "*   What is/are the insight(s) found from the chart?\n",
        "* Will the gained insights help creating a positive business impact?\n",
        "Are there any insights that lead to negative growth? Justify with specific reason.\n",
        "\n",
        "5. You have to create at least 20 logical & meaningful charts having important insights.\n",
        "\n",
        "\n",
        "[ Hints : - Do the Vizualization in  a structured way while following \"UBM\" Rule.\n",
        "\n",
        "U - Univariate Analysis,\n",
        "\n",
        "B - Bivariate Analysis (Numerical - Categorical, Numerical - Numerical, Categorical - Categorical)\n",
        "\n",
        "M - Multivariate Analysis\n",
        " ]\n",
        "\n",
        "\n",
        "\n"
      ],
      "metadata": {
        "id": "ZrxVaUj-hHfC"
      }
    },
    {
      "cell_type": "markdown",
      "source": [
        "# ***Let's Begin !***"
      ],
      "metadata": {
        "id": "O_i_v8NEhb9l"
      }
    },
    {
      "cell_type": "markdown",
      "source": [
        "## ***1. Know Your Data***"
      ],
      "metadata": {
        "id": "HhfV-JJviCcP"
      }
    },
    {
      "cell_type": "markdown",
      "source": [
        "### Import Libraries"
      ],
      "metadata": {
        "id": "Y3lxredqlCYt"
      }
    },
    {
      "cell_type": "code",
      "source": [
        "# Import Libraries\n",
        "\n",
        "import pandas as pd\n",
        "import numpy as np\n",
        "import matplotlib.pyplot as plt\n",
        "import seaborn as sns\n"
      ],
      "metadata": {
        "id": "M8Vqi-pPk-HR"
      },
      "execution_count": null,
      "outputs": []
    },
    {
      "cell_type": "markdown",
      "source": [
        "### Dataset Loading"
      ],
      "metadata": {
        "id": "3RnN4peoiCZX"
      }
    },
    {
      "cell_type": "code",
      "source": [
        "# Load Dataset\n",
        "file_path = \"https://raw.githubusercontent.com/shreeya09/data-analysis/main/Airbnb%20NYC%202019.csv\"  # Adjust path if running locally\n",
        "df = pd.read_csv(file_path)\n"
      ],
      "metadata": {
        "id": "4CkvbW_SlZ_R"
      },
      "execution_count": null,
      "outputs": []
    },
    {
      "cell_type": "markdown",
      "source": [
        "### Dataset First View"
      ],
      "metadata": {
        "id": "x71ZqKXriCWQ"
      }
    },
    {
      "cell_type": "code",
      "source": [
        "# Dataset First Look\n",
        "df.head()"
      ],
      "metadata": {
        "id": "LWNFOSvLl09H"
      },
      "execution_count": null,
      "outputs": []
    },
    {
      "cell_type": "markdown",
      "source": [
        "### Dataset Rows & Columns count"
      ],
      "metadata": {
        "id": "7hBIi_osiCS2"
      }
    },
    {
      "cell_type": "code",
      "source": [
        "# Dataset Rows & Columns count\n",
        "df.shape"
      ],
      "metadata": {
        "id": "Kllu7SJgmLij"
      },
      "execution_count": null,
      "outputs": []
    },
    {
      "cell_type": "markdown",
      "source": [
        "### Dataset Information"
      ],
      "metadata": {
        "id": "JlHwYmJAmNHm"
      }
    },
    {
      "cell_type": "code",
      "source": [
        "# Dataset Info\n",
        "df.info()"
      ],
      "metadata": {
        "id": "e9hRXRi6meOf"
      },
      "execution_count": null,
      "outputs": []
    },
    {
      "cell_type": "markdown",
      "source": [
        "#### Duplicate Values"
      ],
      "metadata": {
        "id": "35m5QtbWiB9F"
      }
    },
    {
      "cell_type": "code",
      "source": [
        "# Dataset Duplicate Value Count\n",
        "len(df[df.duplicated()])"
      ],
      "metadata": {
        "id": "1sLdpKYkmox0"
      },
      "execution_count": null,
      "outputs": []
    },
    {
      "cell_type": "markdown",
      "source": [
        "#### Missing Values/Null Values"
      ],
      "metadata": {
        "id": "PoPl-ycgm1ru"
      }
    },
    {
      "cell_type": "code",
      "source": [
        "# Missing Values/Null Values Count\n",
        "print(df.isnull().sum())"
      ],
      "metadata": {
        "id": "GgHWkxvamxVg"
      },
      "execution_count": null,
      "outputs": []
    },
    {
      "cell_type": "code",
      "source": [
        "# Visualizing the missing values\n",
        "sns.heatmap(df.isnull(), cbar=False)"
      ],
      "metadata": {
        "id": "3q5wnI3om9sJ"
      },
      "execution_count": null,
      "outputs": []
    },
    {
      "cell_type": "markdown",
      "source": [
        "### What did you know about your dataset?"
      ],
      "metadata": {
        "id": "H0kj-8xxnORC"
      }
    },
    {
      "cell_type": "markdown",
      "source": [
        "The dataset given is from the hospitality and tourism industry, specifically from the Airbnb platform, focusing on listings in New York City during the year 2019. We aim to analyze the platform's key operational aspects such as host behavior, pricing strategies, customer engagement, and geographic distribution of listings to derive valuable business insights.\n",
        "\n",
        "Airbnb data analysis can help identify factors affecting price, availability, and popularity of listings, as well as trends across neighborhoods. These insights are useful for business optimization, marketing strategies, policy development, and urban planning.\n",
        "\n",
        "The dataset consists of 48,895 rows and 16 columns, capturing details of Airbnb listings in New York City for the year 2019. This dataset provides a mix of categorical and numerical features relevant for analyzing host behavior, listing distribution, pricing trends, and guest activity.\n",
        "\n",
        "There are no duplicate values in the dataset, which ensures data integrity and uniqueness of entries.\n",
        "\n",
        "However, the dataset does contain missing values in the following columns:\n",
        "\n",
        "name: 16 missing\n",
        "\n",
        "host_name: 21 missing\n",
        "\n",
        "last_review: 10,052 missing\n",
        "\n",
        "reviews_per_month: 10,052 missing\n",
        "\n",
        "The majority of the missing values in last_review and reviews_per_month are likely due to listings that have never received a review, which is a common and expected scenario in this domain."
      ],
      "metadata": {
        "id": "gfoNAAC-nUe_"
      }
    },
    {
      "cell_type": "markdown",
      "source": [
        "## ***2. Understanding Your Variables***"
      ],
      "metadata": {
        "id": "nA9Y7ga8ng1Z"
      }
    },
    {
      "cell_type": "code",
      "source": [
        "# Dataset Columns\n",
        "df.columns"
      ],
      "metadata": {
        "id": "j7xfkqrt5Ag5"
      },
      "execution_count": null,
      "outputs": []
    },
    {
      "cell_type": "code",
      "source": [
        "# Dataset Describe\n",
        "df.describe()"
      ],
      "metadata": {
        "id": "DnOaZdaE5Q5t"
      },
      "execution_count": null,
      "outputs": []
    },
    {
      "cell_type": "markdown",
      "source": [
        "### Variables Description"
      ],
      "metadata": {
        "id": "PBTbrJXOngz2"
      }
    },
    {
      "cell_type": "markdown",
      "source": [
        "id : Unique ID for each listing\n",
        "\n",
        "name : Title of the listing provided by the host\n",
        "\n",
        "host_id : Unique ID for each host\n",
        "\n",
        "host_name : Name of the host\n",
        "\n",
        "neighbourhood_group : Categorical – Main NYC borough (e.g., Manhattan, Brooklyn)\n",
        "\n",
        "neighbourhood : Categorical – Specific neighborhood within a borough\n",
        "\n",
        "latitude : Latitude coordinate of the listing location\n",
        "\n",
        "longitude : Longitude coordinate of the listing location\n",
        "\n",
        "room_type : Categorical – Type of room (Entire home/apt, Private room, Shared room)\n",
        "\n",
        "price : Price per night in USD\n",
        "\n",
        "minimum_nights : Minimum number of nights required for booking\n",
        "\n",
        "number_of_reviews : Total number of reviews received\n",
        "\n",
        "last_review : Date of the most recent review (NaN if no reviews)\n",
        "\n",
        "reviews_per_month : Average number of reviews per month (NaN if no reviews)\n",
        "\n",
        "calculated_host_listings_count : Number of listings managed by the same host\n",
        "\n",
        "availability_365 : Number of days the listing is available per year"
      ],
      "metadata": {
        "id": "aJV4KIxSnxay"
      }
    },
    {
      "cell_type": "markdown",
      "source": [
        "### Check Unique Values for each variable."
      ],
      "metadata": {
        "id": "u3PMJOP6ngxN"
      }
    },
    {
      "cell_type": "code",
      "source": [
        "# Check Unique Values for each variable.\n",
        "for i in df.columns.tolist():\n",
        "  print(\"No. of unique values in \",i,\"is\",df[i].nunique())"
      ],
      "metadata": {
        "id": "zms12Yq5n-jE"
      },
      "execution_count": null,
      "outputs": []
    },
    {
      "cell_type": "markdown",
      "source": [
        "## 3. ***Data Wrangling***"
      ],
      "metadata": {
        "id": "dauF4eBmngu3"
      }
    },
    {
      "cell_type": "markdown",
      "source": [
        "### Data Wrangling Code"
      ],
      "metadata": {
        "id": "bKJF3rekwFvQ"
      }
    },
    {
      "cell_type": "code",
      "source": [
        "# Write your code to make your dataset analysis ready.\n",
        "\n",
        "# 1. Remove duplicate rows (if any)\n",
        "df = df.drop_duplicates()\n",
        "\n",
        "# 2. Convert 'last_review' to datetime format\n",
        "df['last_review'] = pd.to_datetime(df['last_review'])\n",
        "\n",
        "# 3. Fill missing values correctly\n",
        "df['name'] = df['name'].fillna(\"No name\")\n",
        "df['host_name'] = df['host_name'].fillna(\"No host\")\n",
        "df['reviews_per_month'] = df['reviews_per_month'].fillna(0)\n",
        "df['last_review'] = df['last_review'].fillna(pd.NaT)\n",
        "\n",
        "# 4. (Optional) Remove listings with 0 price or unrealistic minimum nights\n",
        "df = df[df['price'] > 0]\n",
        "df = df[df['minimum_nights'] <= 365]\n",
        "\n",
        "# 5. Reset index after cleaning\n",
        "df = df.reset_index(drop=True)\n",
        "\n",
        "# Preview cleaned data\n",
        "df.info()\n",
        "\n"
      ],
      "metadata": {
        "id": "wk-9a2fpoLcV"
      },
      "execution_count": null,
      "outputs": []
    },
    {
      "cell_type": "markdown",
      "source": [
        "### What all manipulations have you done and insights you found?"
      ],
      "metadata": {
        "id": "MSa1f5Uengrz"
      }
    },
    {
      "cell_type": "markdown",
      "source": [
        "\n",
        "**Data Manipulations Performed**\n",
        "\n",
        "1. Loaded the Airbnb NYC 2019 dataset (~49,000 rows, 16 columns)  \n",
        "2. Removed duplicate rows → 0 found  \n",
        "3. Checked and filled missing values:  \n",
        "   - `name` → filled with `\"No name\"`  \n",
        "   - `host_name` → filled with `\"No host\"`  \n",
        "   - `reviews_per_month` → filled with `0`  \n",
        "   - `last_review` → converted to datetime, missing kept as `NaT`  \n",
        "4. Removed listings with:  \n",
        "   - `price = 0` (invalid listing)  \n",
        "   - `minimum_nights > 365` (outlier)  \n",
        "5. Reset DataFrame index after cleaning  \n",
        "6. Verified column data types and null counts  \n",
        "\n",
        "---\n",
        "\n",
        "**Initial Insights**\n",
        "\n",
        "- ~10,000 listings have never received a review (`NaT` in `last_review`)  \n",
        "- No duplicate entries in the dataset  \n",
        "- All columns except `last_review` now have complete data  \n",
        "- Removed zero-priced and extreme minimum night listings for more reliable analysis  \n",
        "- Dataset is now clean and ready for visualizations and deeper EDA"
      ],
      "metadata": {
        "id": "LbyXE7I1olp8"
      }
    },
    {
      "cell_type": "markdown",
      "source": [
        "## ***4. Data Vizualization, Storytelling & Experimenting with charts : Understand the relationships between variables***"
      ],
      "metadata": {
        "id": "GF8Ens_Soomf"
      }
    },
    {
      "cell_type": "markdown",
      "source": [
        "#### Chart - 1- Distribution of room types (Countplot)"
      ],
      "metadata": {
        "id": "0wOQAZs5pc--"
      }
    },
    {
      "cell_type": "code",
      "source": [
        "# Chart - 1 visualization code\n",
        "import matplotlib.pyplot as plt\n",
        "import seaborn as sns\n",
        "\n",
        "# Set styles\n",
        "sns.set(style=\"whitegrid\", palette=\"pastel\")\n",
        "plt.rcParams[\"figure.figsize\"] = (10, 6)\n",
        "\n",
        "# 1. Distribution of room types\n",
        "sns.countplot(data=df, x='room_type', order=df['room_type'].value_counts().index)\n",
        "plt.title(\"Room Type Distribution\")\n",
        "plt.xlabel(\"Room Type\")\n",
        "plt.ylabel(\"Number of Listings\")\n",
        "plt.xticks(rotation=45)\n",
        "plt.show()\n"
      ],
      "metadata": {
        "id": "7v_ESjsspbW7"
      },
      "execution_count": null,
      "outputs": []
    },
    {
      "cell_type": "markdown",
      "source": [
        "##### 1. Why did you pick the specific chart?"
      ],
      "metadata": {
        "id": "K5QZ13OEpz2H"
      }
    },
    {
      "cell_type": "markdown",
      "source": [
        "Why Countplot used?\n",
        "\n",
        "It visually counts occurrences of each category in a column.\n",
        "\n",
        "It works best with categorical data like room_type.\n",
        "\n",
        "It gives a quick sense of which room types are more common and how they compare."
      ],
      "metadata": {
        "id": "XESiWehPqBRc"
      }
    },
    {
      "cell_type": "markdown",
      "source": [
        "##### 2. What is/are the insight(s) found from the chart?"
      ],
      "metadata": {
        "id": "lQ7QKXXCp7Bj"
      }
    },
    {
      "cell_type": "markdown",
      "source": [
        "Shows the dominant room types on Airbnb NYC. Room Types: Entire homes/apartments and private rooms dominate the market."
      ],
      "metadata": {
        "id": "C_j1G7yiqdRP"
      }
    },
    {
      "cell_type": "markdown",
      "source": [
        "##### 3. Will the gained insights help creating a positive business impact?\n",
        "Are there any insights that lead to negative growth? Justify with specific reason."
      ],
      "metadata": {
        "id": "448CDAPjqfQr"
      }
    },
    {
      "cell_type": "markdown",
      "source": [
        " Knowing that Entire homes and Private rooms dominate can help Airbnb prioritize features, promotions, or pricing models around them."
      ],
      "metadata": {
        "id": "3cspy4FjqxJW"
      }
    },
    {
      "cell_type": "markdown",
      "source": [
        "#### Chart - 2- Listings by neighbourhood group (Pie Chart)"
      ],
      "metadata": {
        "id": "KSlN3yHqYklG"
      }
    },
    {
      "cell_type": "code",
      "source": [
        "# Chart - 2 visualization code\n",
        "\n",
        "# Chart - 2: Listings by neighbourhood group\n",
        "\n",
        "# Data preparation\n",
        "neighbourhood_counts = df['neighbourhood_group'].value_counts()\n",
        "labels = neighbourhood_counts.index\n",
        "sizes = neighbourhood_counts.values\n",
        "colors = sns.color_palette(\"pastel\")[0:5]\n",
        "\n",
        "# Plot\n",
        "plt.figure(figsize=(8, 8))\n",
        "wedges, texts, autotexts = plt.pie(\n",
        "    sizes,\n",
        "    colors=colors,\n",
        "    startangle=140,\n",
        "    wedgeprops=dict(edgecolor='black'),\n",
        "    autopct='%1.1f%%',\n",
        "    pctdistance=1.15  # Move percentage labels outward\n",
        ")\n",
        "\n",
        "# Add legend for neighborhood labels\n",
        "plt.legend(wedges, labels, title=\"Neighbourhood Group\", loc=\"center left\", bbox_to_anchor=(1, 0.5, 0.5, 1))\n",
        "\n",
        "# Style adjustments\n",
        "for text in autotexts:\n",
        "    text.set_color('black')\n",
        "    text.set_fontsize(10)\n",
        "\n",
        "plt.title(\"Listings Distribution by Neighbourhood Group\", fontsize=14)\n",
        "plt.axis('equal')\n",
        "plt.tight_layout()\n",
        "plt.show()"
      ],
      "metadata": {
        "id": "R4YgtaqtYklH"
      },
      "execution_count": null,
      "outputs": []
    },
    {
      "cell_type": "markdown",
      "source": [
        "##### 1. Why did you pick the specific chart?"
      ],
      "metadata": {
        "id": "t6dVpIINYklI"
      }
    },
    {
      "cell_type": "markdown",
      "source": [
        "A pie chart is ideal for showing proportions of a whole.\n",
        "\n",
        "It helps visually compare how each neighbourhood group contributes to total Airbnb listings.\n",
        "\n",
        "Especially useful when the number of categories is limited and clearly distinguishable.\n",
        "\n",
        "Makes it easy to spot dominant groups (like Manhattan and Brooklyn).\n",
        "\n"
      ],
      "metadata": {
        "id": "5aaW0BYyYklI"
      }
    },
    {
      "cell_type": "markdown",
      "source": [
        "##### 2. What is/are the insight(s) found from the chart?"
      ],
      "metadata": {
        "id": "ijmpgYnKYklI"
      }
    },
    {
      "cell_type": "markdown",
      "source": [
        "Manhattan and Brooklyn dominate the Airbnb market in NYC, together accounting for over 85% of total listings.\n",
        "\n",
        "Other boroughs like Queens, Bronx, and Staten Island have significantly fewer listings, indicating lower host or tourist activity in those areas.\n",
        "\n",
        "This distribution suggests that most Airbnb activity is concentrated in central and tourist-heavy areas, likely due to higher demand and better infrastructure."
      ],
      "metadata": {
        "id": "PSx9atu2YklI"
      }
    },
    {
      "cell_type": "markdown",
      "source": [
        "##### 3. Will the gained insights help creating a positive business impact?\n",
        "Are there any insights that lead to negative growth? Justify with specific reason."
      ],
      "metadata": {
        "id": "-JiQyfWJYklI"
      }
    },
    {
      "cell_type": "markdown",
      "source": [
        "Understanding that Manhattan and Brooklyn dominate listings helps Airbnb and hosts focus marketing, promotions, and premium services in high-demand areas.\n",
        "It also opens opportunities to expand inventory in underrepresented boroughs like Queens or Bronx, where competition is lower and growth potential exists.Over-concentration in Manhattan and Brooklyn could lead to market saturation, pricing pressure, and regulatory scrutiny.Neglecting areas like Staten Island or Bronx may result in missed growth opportunities, especially as tourists seek cheaper or more local experiences."
      ],
      "metadata": {
        "id": "BcBbebzrYklV"
      }
    },
    {
      "cell_type": "markdown",
      "source": [
        "#### Chart - 3- Price distribution by room type (Box Plot)"
      ],
      "metadata": {
        "id": "EM7whBJCYoAo"
      }
    },
    {
      "cell_type": "code",
      "source": [
        "# Chart - 3 visualization code\n",
        "# 3. Price distribution by room type\n",
        "sns.boxplot(data=df, x='room_type', y='price')\n",
        "plt.ylim(0, 500)  # Limit y-axis for better view, exclude extreme outliers\n",
        "plt.title(\"Price Distribution by Room Type\")\n",
        "plt.ylabel(\"Price (USD)\")\n",
        "plt.show()"
      ],
      "metadata": {
        "id": "t6GMdE67YoAp"
      },
      "execution_count": null,
      "outputs": []
    },
    {
      "cell_type": "markdown",
      "source": [
        "##### 1. Why did you pick the specific chart?"
      ],
      "metadata": {
        "id": "fge-S5ZAYoAp"
      }
    },
    {
      "cell_type": "markdown",
      "source": [
        "A boxplot shows the spread, median, and outliers of price for each room type.\n",
        "\n",
        "Ideal for comparing distribution across categories (like room_type).\n",
        "\n",
        "Highlights central tendency (median) and price variability.\n",
        "\n",
        "Clearly displays extreme values (outliers), helping spot unusually priced listings."
      ],
      "metadata": {
        "id": "5dBItgRVYoAp"
      }
    },
    {
      "cell_type": "markdown",
      "source": [
        "##### 2. What is/are the insight(s) found from the chart?"
      ],
      "metadata": {
        "id": "85gYPyotYoAp"
      }
    },
    {
      "cell_type": "markdown",
      "source": [
        "Entire home/apt listings have the highest median price and a wide price range, as expected due to full property rentals.\n",
        "\n",
        "Private rooms are significantly more affordable and tightly clustered around a lower price range.\n",
        "\n",
        "Shared rooms are the cheapest but also the least common.\n",
        "\n",
        "The plot reveals many high-price outliers, especially in Entire home/apt category, indicating luxury or premium listings.\n",
        "\n"
      ],
      "metadata": {
        "id": "4jstXR6OYoAp"
      }
    },
    {
      "cell_type": "markdown",
      "source": [
        "##### 3. Will the gained insights help creating a positive business impact?\n",
        "Are there any insights that lead to negative growth? Justify with specific reason."
      ],
      "metadata": {
        "id": "RoGjAbkUYoAp"
      }
    },
    {
      "cell_type": "markdown",
      "source": [
        "Yes.\n",
        "Understanding how prices vary by room type helps:\n",
        "-Hosts price competitively within their category.\n",
        "-Airbnb recommend optimal pricing for new listings based on market trends.\n",
        "-Identify opportunities to promote Private Rooms as budget-friendly options for price-sensitive users.\n",
        "-Guide Airbnb’s dynamic pricing algorithms to consider category-based pricing patterns.\n",
        "\n",
        "The presence of many high-price outliers, especially in Entire home/apt, may create a perception of being overpriced, driving away budget travelers.If Shared rooms remain underutilized, they could represent wasted inventory or low host engagement."
      ],
      "metadata": {
        "id": "zfJ8IqMcYoAp"
      }
    },
    {
      "cell_type": "markdown",
      "source": [
        "#### Chart - 4- Number of reviews vs price (Scatter Plot)"
      ],
      "metadata": {
        "id": "4Of9eVA-YrdM"
      }
    },
    {
      "cell_type": "code",
      "source": [
        "# Chart - 4 visualization code\n",
        "# 4. Number of reviews vs price (scatter plot)\n",
        "sns.scatterplot(data=df[df['price'] < 500], x='price', y='number_of_reviews', alpha=0.4)\n",
        "plt.title(\"Price vs. Number of Reviews\")\n",
        "plt.xlabel(\"Price (USD)\")\n",
        "plt.ylabel(\"Number of Reviews\")\n",
        "plt.show()\n"
      ],
      "metadata": {
        "id": "irlUoxc8YrdO"
      },
      "execution_count": null,
      "outputs": []
    },
    {
      "cell_type": "markdown",
      "source": [
        "##### 1. Why did you pick the specific chart?"
      ],
      "metadata": {
        "id": "iky9q4vBYrdO"
      }
    },
    {
      "cell_type": "markdown",
      "source": [
        "A scatter plot is ideal for visualizing the relationship between two numerical variables.\n",
        "\n",
        "Helps identify patterns, trends, or correlations — e.g., whether cheaper listings get more reviews.\n",
        "\n",
        "Reveals clusters and outliers, like low-priced listings with lots of activity.\n",
        "\n",
        "Adding alpha=0.4 makes dense areas more visible without clutter."
      ],
      "metadata": {
        "id": "aJRCwT6DYrdO"
      }
    },
    {
      "cell_type": "markdown",
      "source": [
        "##### 2. What is/are the insight(s) found from the chart?"
      ],
      "metadata": {
        "id": "F6T5p64dYrdO"
      }
    },
    {
      "cell_type": "markdown",
      "source": [
        "Listings with lower prices (under $150) tend to receive more reviews, suggesting they are booked more frequently.\n",
        "\n",
        "Higher-priced listings generally receive fewer reviews, possibly due to lower affordability or being targeted toward short-term/luxury stays.\n",
        "\n",
        "A few outliers exist — expensive listings with lots of reviews, likely premium or highly-rated properties."
      ],
      "metadata": {
        "id": "Xx8WAJvtYrdO"
      }
    },
    {
      "cell_type": "markdown",
      "source": [
        "##### 3. Will the gained insights help creating a positive business impact?\n",
        "Are there any insights that lead to negative growth? Justify with specific reason."
      ],
      "metadata": {
        "id": "y-Ehk30pYrdP"
      }
    },
    {
      "cell_type": "markdown",
      "source": [
        "Yes.The insight that lower-priced listings attract more reviews can guide hosts to optimize their pricing for better visibility and more bookings.Airbnb can use this to enhance dynamic pricing models, suggesting lower rates for new hosts to quickly gain traction.Frequent reviews also build trust — boosting search ranking and conversion rates, leading to increased bookings.\n",
        "\n",
        "Overemphasis on low pricing may trigger a “race to the bottom”, reducing overall host revenue and platform value. High-quality, higher-priced listings may get overlooked despite offering better service, leading to underutilization and dissatisfied premium hosts.\n",
        "\n"
      ],
      "metadata": {
        "id": "jLNxxz7MYrdP"
      }
    },
    {
      "cell_type": "markdown",
      "source": [
        "#### Chart - 5- Availability by neighbourhood group (Box Plot)"
      ],
      "metadata": {
        "id": "bamQiAODYuh1"
      }
    },
    {
      "cell_type": "code",
      "source": [
        "# Chart - 5 visualization code\n",
        "# 5. Availability by neighbourhood group\n",
        "sns.boxplot(data=df, x='neighbourhood_group', y='availability_365')\n",
        "plt.title(\"Availability by Neighbourhood Group\")\n",
        "plt.ylabel(\"Available Days per Year\")\n",
        "plt.show()"
      ],
      "metadata": {
        "id": "TIJwrbroYuh3"
      },
      "execution_count": null,
      "outputs": []
    },
    {
      "cell_type": "markdown",
      "source": [
        "##### 1. Why did you pick the specific chart?"
      ],
      "metadata": {
        "id": "QHF8YVU7Yuh3"
      }
    },
    {
      "cell_type": "markdown",
      "source": [
        "A boxplot is ideal for showing the distribution and spread of a numerical variable (availability_365) across categories (neighbourhood_group).\n",
        "\n",
        "It reveals:\n",
        "\n",
        "Median availability (typical listing activity)\n",
        "\n",
        "Variation within each borough\n",
        "\n",
        "Outliers, such as listings available all year or rarely available\n",
        "\n",
        "Helps compare how active listings are in different boroughs at a glance."
      ],
      "metadata": {
        "id": "dcxuIMRPYuh3"
      }
    },
    {
      "cell_type": "markdown",
      "source": [
        "##### 2. What is/are the insight(s) found from the chart?"
      ],
      "metadata": {
        "id": "GwzvFGzlYuh3"
      }
    },
    {
      "cell_type": "markdown",
      "source": [
        "All boroughs show a wide variation in listing availability, ranging from 0 to 365 days.\n",
        "\n",
        "Many listings have full-year availability (365 days), especially in Manhattan and Brooklyn, suggesting strong host engagement in those areas.\n",
        "\n",
        "Some boroughs (e.g., Staten Island and Bronx) show lower median availability, which may reflect less consistent host activity or part-time rentals.\n",
        "\n",
        "Presence of 0-availability listings could indicate inactive or paused listings still on the platform.\n",
        "\n"
      ],
      "metadata": {
        "id": "uyqkiB8YYuh3"
      }
    },
    {
      "cell_type": "markdown",
      "source": [
        "##### 3. Will the gained insights help creating a positive business impact?\n",
        "Are there any insights that lead to negative growth? Justify with specific reason."
      ],
      "metadata": {
        "id": "qYpmQ266Yuh3"
      }
    },
    {
      "cell_type": "markdown",
      "source": [
        "Understanding that Manhattan and Brooklyn have many fully available listings suggests these are key markets with active and committed hosts — ideal for promotions, partnerships, or Airbnb Plus expansion.Insights into borough-level availability help Airbnb adjust search algorithms and availability-based recommendations, improving user satisfaction and booking efficiency.\n",
        "\n",
        "A significant number of listings with 0-day availability may indicate inactive or neglected listings, which can clutter search results and frustrate users.Lower availability in boroughs like Staten Island or Bronx could signal missed market potential or low host retention, which, if ignored, could limit Airbnb’s long-term growth in these areas."
      ],
      "metadata": {
        "id": "_WtzZ_hCYuh4"
      }
    },
    {
      "cell_type": "markdown",
      "source": [
        "#### Chart - 6- Listing Locations in NYC (Map Plot)"
      ],
      "metadata": {
        "id": "OH-pJp9IphqM"
      }
    },
    {
      "cell_type": "code",
      "source": [
        "# Chart - 6 visualization code\n",
        "plt.figure(figsize=(10, 8))\n",
        "sns.scatterplot(\n",
        "    data=df[df['price'] < 500],  # Limit to reasonable prices\n",
        "    x='longitude', y='latitude',\n",
        "    hue='neighbourhood_group',\n",
        "    palette='Set2',\n",
        "    alpha=0.4,\n",
        "    s=20\n",
        ")\n",
        "plt.title(\"Airbnb Listings in NYC by Neighbourhood Group\")\n",
        "plt.xlabel(\"Longitude\")\n",
        "plt.ylabel(\"Latitude\")\n",
        "plt.legend(title=\"Neighbourhood Group\")\n",
        "plt.show()"
      ],
      "metadata": {
        "id": "kuRf4wtuphqN"
      },
      "execution_count": null,
      "outputs": []
    },
    {
      "cell_type": "markdown",
      "source": [
        "##### 1. Why did you pick the specific chart?"
      ],
      "metadata": {
        "id": "bbFf2-_FphqN"
      }
    },
    {
      "cell_type": "markdown",
      "source": [
        "A scatter plot using longitude and latitude visually simulates a geographical map.\n",
        "\n",
        "Helps identify listing density clusters and how listings are distributed across NYC.\n",
        "\n",
        "Ideal when real map libraries (e.g., Folium) are not used but location data exists."
      ],
      "metadata": {
        "id": "loh7H2nzphqN"
      }
    },
    {
      "cell_type": "markdown",
      "source": [
        "##### 2. What is/are the insight(s) found from the chart?"
      ],
      "metadata": {
        "id": "_ouA3fa0phqN"
      }
    },
    {
      "cell_type": "markdown",
      "source": [
        "Most listings are concentrated in Manhattan and Brooklyn, forming dense geographic clusters.\n",
        "\n",
        "Queens and Bronx have fewer, more scattered listings.\n",
        "\n",
        "Certain areas show very high listing overlap, indicating hotspots of demand."
      ],
      "metadata": {
        "id": "VECbqPI7phqN"
      }
    },
    {
      "cell_type": "markdown",
      "source": [
        "##### 3. Will the gained insights help creating a positive business impact?\n",
        "Are there any insights that lead to negative growth? Justify with specific reason."
      ],
      "metadata": {
        "id": "Seke61FWphqN"
      }
    },
    {
      "cell_type": "markdown",
      "source": [
        "Yes.\n",
        "\n",
        "Oversaturation in dense zones (e.g., Manhattan) may lead to high competition and declining profits for hosts.\n",
        "\n",
        "Underrepresented areas could indicate missed market opportunities or lack of support, leading to uneven platform growth."
      ],
      "metadata": {
        "id": "DW4_bGpfphqN"
      }
    },
    {
      "cell_type": "markdown",
      "source": [
        "#### Chart - 7 Minimum Nights Affects Reviews (ScatterPlot)"
      ],
      "metadata": {
        "id": "PIIx-8_IphqN"
      }
    },
    {
      "cell_type": "code",
      "source": [
        "# Chart - 7 visualization code\n",
        "# Scatter plot to examine how minimum nights affects reviews\n",
        "\n",
        "plt.figure(figsize=(10, 6))\n",
        "sns.scatterplot(\n",
        "    data=df[df['minimum_nights'] < 30],  # Filter extreme outliers\n",
        "    x='minimum_nights',\n",
        "    y='number_of_reviews',\n",
        "    alpha=0.5\n",
        ")\n",
        "plt.title(\"Minimum Nights vs Number of Reviews\")\n",
        "plt.xlabel(\"Minimum Nights Required\")\n",
        "plt.ylabel(\"Number of Reviews\")\n",
        "plt.show()\n"
      ],
      "metadata": {
        "id": "lqAIGUfyphqO"
      },
      "execution_count": null,
      "outputs": []
    },
    {
      "cell_type": "markdown",
      "source": [
        "##### 1. Why did you pick the specific chart?"
      ],
      "metadata": {
        "id": "t27r6nlMphqO"
      }
    },
    {
      "cell_type": "markdown",
      "source": [
        "A scatter plot shows the relationship between two numeric variables.\n",
        "\n",
        "Ideal for detecting how minimum night requirements affect guest activity (measured via reviews)."
      ],
      "metadata": {
        "id": "iv6ro40sphqO"
      }
    },
    {
      "cell_type": "markdown",
      "source": [
        "##### 2. What is/are the insight(s) found from the chart?"
      ],
      "metadata": {
        "id": "r2jJGEOYphqO"
      }
    },
    {
      "cell_type": "markdown",
      "source": [
        "Listings with lower minimum night requirements (1–5 nights) generally receive more reviews.\n",
        "\n",
        "As minimum_nights increases, the number of reviews tends to drop sharply.\n",
        "\n",
        "Suggests that flexible stay options attract more bookings."
      ],
      "metadata": {
        "id": "Po6ZPi4hphqO"
      }
    },
    {
      "cell_type": "markdown",
      "source": [
        "##### 3. Will the gained insights help creating a positive business impact?\n",
        "Are there any insights that lead to negative growth? Justify with specific reason."
      ],
      "metadata": {
        "id": "b0JNsNcRphqO"
      }
    },
    {
      "cell_type": "markdown",
      "source": [
        "Yes.\n",
        "\n",
        "Airbnb can recommend lower minimum nights for new or low-performing hosts to increase engagement.\n",
        "\n",
        "Hosts can adjust stay requirements to balance booking frequency and operational workload.\n",
        "\n",
        "Improves guest satisfaction by offering more flexible stay durations.\n",
        "\n",
        "Listings with very high minimum nights may receive very few bookings, leading to poor visibility and lost revenue.\n",
        "\n",
        "Rigid policies may push guests to competitors offering shorter stays or more flexibility."
      ],
      "metadata": {
        "id": "xvSq8iUTphqO"
      }
    },
    {
      "cell_type": "markdown",
      "source": [
        "#### Chart - 8- Correlation Heatmap"
      ],
      "metadata": {
        "id": "NC_X3p0fY2L0"
      }
    },
    {
      "cell_type": "code",
      "source": [
        "# Correlation Heatmap visualization code\n",
        "plt.figure(figsize=(10, 6))\n",
        "sns.heatmap(df.corr(numeric_only=True), annot=True, cmap='coolwarm', linewidths=0.5)\n",
        "plt.title(\"Correlation Between Numerical Features\")\n",
        "plt.show()"
      ],
      "metadata": {
        "id": "xyC9zolEZNRQ"
      },
      "execution_count": null,
      "outputs": []
    },
    {
      "cell_type": "markdown",
      "source": [
        "##### 1. Why did you pick the specific chart?"
      ],
      "metadata": {
        "id": "UV0SzAkaZNRQ"
      }
    },
    {
      "cell_type": "markdown",
      "source": [
        "A correlation heatmap is ideal for exploring relationships between multiple numerical variables at once.\n",
        "\n",
        "It helps identify:\n",
        "\n",
        "Strong or weak linear correlations\n",
        "\n",
        "Potential predictor variables for modeling\n",
        "\n",
        "Redundant features that may not add value\n",
        "\n",
        "Perfect for summarizing complex inter-variable relationships in a single visual."
      ],
      "metadata": {
        "id": "DVPuT8LYZNRQ"
      }
    },
    {
      "cell_type": "markdown",
      "source": [
        "##### 2. What is/are the insight(s) found from the chart?"
      ],
      "metadata": {
        "id": "YPEH6qLeZNRQ"
      }
    },
    {
      "cell_type": "markdown",
      "source": [
        "Most numerical features show weak or no strong correlation with price, indicating that pricing is influenced by a complex mix of factors (e.g., location, room type, amenities).\n",
        "\n",
        "Strongest positive correlation:\n",
        "\n",
        "reviews_per_month ↔ number_of_reviews — logical, since more reviews monthly means more total reviews.\n",
        "\n",
        "calculated_host_listings_count and availability_365 have very low correlation with other variables, suggesting they behave independently."
      ],
      "metadata": {
        "id": "bfSqtnDqZNRR"
      }
    },
    {
      "cell_type": "markdown",
      "source": [
        "#### Chart - 9 - Pair Plot"
      ],
      "metadata": {
        "id": "q29F0dvdveiT"
      }
    },
    {
      "cell_type": "code",
      "source": [
        "# Pair Plot visualization code\n",
        "# Select important numeric columns for pair plot\n",
        "pairplot_cols = [\n",
        "    'price',\n",
        "    'minimum_nights',\n",
        "    'number_of_reviews',\n",
        "    'reviews_per_month',\n",
        "    'calculated_host_listings_count',\n",
        "    'availability_365'\n",
        "]\n",
        "\n",
        "# Filter to remove extreme price values and reduce overplotting\n",
        "df_pair = df[df['price'] < 500].sample(2000, random_state=1)\n",
        "\n",
        "# Pair plot\n",
        "sns.pairplot(df_pair[pairplot_cols], diag_kind='kde', corner=True, plot_kws={'alpha': 0.4, 's': 20})\n",
        "plt.suptitle(\"Pair Plot of Key Numerical Features (Sampled)\", y=1.02, fontsize=14)\n",
        "plt.show()\n"
      ],
      "metadata": {
        "id": "o58-TEIhveiU"
      },
      "execution_count": null,
      "outputs": []
    },
    {
      "cell_type": "markdown",
      "source": [
        "##### 1. Why did you pick the specific chart?"
      ],
      "metadata": {
        "id": "EXh0U9oCveiU"
      }
    },
    {
      "cell_type": "markdown",
      "source": [
        "A pair plot is great for visualizing all pairwise relationships between selected numerical features in a single chart.\n",
        "\n",
        "Helps detect:\n",
        "\n",
        "Linear or non-linear trends\n",
        "\n",
        "Outliers or clusters\n",
        "\n",
        "Possible correlations between variables (e.g., reviews vs. price)\n",
        "\n",
        "Also shows distributions of each variable along the diagonal, giving insights into skewness or spread.\n",
        "\n",
        "Useful for feature selection and spotting patterns before modeling.\n"
      ],
      "metadata": {
        "id": "eMmPjTByveiU"
      }
    },
    {
      "cell_type": "markdown",
      "source": [
        "##### 2. What is/are the insight(s) found from the chart?"
      ],
      "metadata": {
        "id": "22aHeOlLveiV"
      }
    },
    {
      "cell_type": "markdown",
      "source": [
        "Price has no strong linear correlation with other numeric features — confirming it's influenced by a mix of factors (e.g., location, room type).\n",
        "\n",
        "Number of reviews and reviews per month show a strong positive relationship, as expected.\n",
        "\n",
        "Minimum nights is highly skewed — most listings have short stays, but a few require long-term bookings (outliers).\n",
        "\n",
        "Availability shows a dense cluster near 0 and 365 — suggesting many listings are either fully available year-round or rarely active.\n",
        "\n",
        "No strong multicollinearity is visible, which is good for further modeling."
      ],
      "metadata": {
        "id": "uPQ8RGwHveiV"
      }
    },
    {
      "cell_type": "markdown",
      "source": [
        "## **5. Solution to Business Objective**"
      ],
      "metadata": {
        "id": "JcMwzZxoAimU"
      }
    },
    {
      "cell_type": "markdown",
      "source": [
        "#### What do you suggest the client to achieve Business Objective ?\n",
        "Explain Briefly."
      ],
      "metadata": {
        "id": "8G2x9gOozGDZ"
      }
    },
    {
      "cell_type": "markdown",
      "source": [
        "To enhance customer experience, host performance, and market growth, Airbnb can take the following actions based on EDA insights:\n",
        "\n",
        "1. **Encourage Flexible Stays**  \n",
        "   - Listings with lower minimum night requirements tend to get more reviews.  \n",
        "   - Suggest new or low-performing hosts start with **1–3 night minimums** to increase visibility and bookings.\n",
        "\n",
        "2. **Optimize Pricing Guidance**  \n",
        "   - Price does not strongly correlate with other numerical features, indicating multiple influencing factors.  \n",
        "   - Use **room type and location** to provide smart pricing suggestions to help hosts remain competitive.\n",
        "\n",
        "3. **Activate Inactive Listings**  \n",
        "   - Thousands of listings have 0 availability or no reviews.  \n",
        "   - Prompt hosts to **update calendars**, or **deactivate inactive listings** to improve platform quality and search relevance.\n",
        "\n",
        "4. **Target Untapped Locations**  \n",
        "   - Most listings are concentrated in Manhattan and Brooklyn.  \n",
        "   - Increase outreach and incentives for hosting in **Queens, Bronx, and Staten Island** to balance supply and unlock new demand.\n",
        "\n",
        "5. **Support High-Performing Hosts**  \n",
        "   - Hosts with consistent availability and frequent reviews indicate strong engagement.  \n",
        "   - Offer these hosts **badges, boosts, or rewards** to retain quality supply and motivate others."
      ],
      "metadata": {
        "id": "pASKb0qOza21"
      }
    },
    {
      "cell_type": "markdown",
      "source": [
        "# **Conclusion**"
      ],
      "metadata": {
        "id": "gCX9965dhzqZ"
      }
    },
    {
      "cell_type": "markdown",
      "source": [
        "This Exploratory Data Analysis (EDA) on the Airbnb NYC 2019 dataset provided valuable insights into listing behavior, pricing trends, guest engagement, and host activity across different boroughs of New York City.\n",
        "\n",
        "Key takeaways include:\n",
        "- **Manhattan and Brooklyn** dominate in terms of listing volume and host activity.\n",
        "- **Entire home/apartment** listings are the most expensive and common, while **private rooms** offer budget-friendly options with high engagement.\n",
        "- **Lower minimum night requirements** lead to more reviews, suggesting better booking frequency and guest satisfaction.\n",
        "- A large number of listings have either **no reviews or 0 availability**, pointing to inactive or underutilized properties.\n",
        "- **Price** shows little correlation with other numerical features, indicating it is influenced by multiple qualitative factors like location, amenities, and room type.\n",
        "\n",
        "Overall, the insights from this analysis can help Airbnb:\n",
        "- Improve platform efficiency\n",
        "- Optimize search and pricing algorithms\n",
        "- Expand into underrepresented markets\n",
        "- Guide new hosts to success"
      ],
      "metadata": {
        "id": "Fjb1IsQkh3yE"
      }
    },
    {
      "cell_type": "markdown",
      "source": [
        "### ***Hurrah! You have successfully completed your EDA Capstone Project !!!***"
      ],
      "metadata": {
        "id": "gIfDvo9L0UH2"
      }
    }
  ]
}